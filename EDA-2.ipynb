{
 "cells": [
  {
   "cell_type": "code",
   "execution_count": 1,
   "id": "a12730e9",
   "metadata": {},
   "outputs": [],
   "source": [
    "import pandas as pd\n",
    "import numpy as np\n",
    "from sklearn.preprocessing import StandardScaler, MinMaxScaler, OneHotEncoder, LabelEncoder\n",
    "from sklearn.ensemble import IsolationForest"
   ]
  },
  {
   "cell_type": "code",
   "execution_count": 2,
   "id": "62b23533",
   "metadata": {},
   "outputs": [],
   "source": [
    "# Load the dataset\n",
    "df = pd.read_csv(\"adult_with_headers.csv\")"
   ]
  },
  {
   "cell_type": "code",
   "execution_count": 3,
   "id": "c9c285d8",
   "metadata": {},
   "outputs": [
    {
     "name": "stdout",
     "output_type": "stream",
     "text": [
      "                age        fnlwgt  education_num  capital_gain  capital_loss  \\\n",
      "count  32561.000000  3.256100e+04   32561.000000  32561.000000  32561.000000   \n",
      "mean      38.581647  1.897784e+05      10.080679   1077.648844     87.303830   \n",
      "std       13.640433  1.055500e+05       2.572720   7385.292085    402.960219   \n",
      "min       17.000000  1.228500e+04       1.000000      0.000000      0.000000   \n",
      "25%       28.000000  1.178270e+05       9.000000      0.000000      0.000000   \n",
      "50%       37.000000  1.783560e+05      10.000000      0.000000      0.000000   \n",
      "75%       48.000000  2.370510e+05      12.000000      0.000000      0.000000   \n",
      "max       90.000000  1.484705e+06      16.000000  99999.000000   4356.000000   \n",
      "\n",
      "       hours_per_week  \n",
      "count    32561.000000  \n",
      "mean        40.437456  \n",
      "std         12.347429  \n",
      "min          1.000000  \n",
      "25%         40.000000  \n",
      "50%         40.000000  \n",
      "75%         45.000000  \n",
      "max         99.000000  \n"
     ]
    }
   ],
   "source": [
    "# Display summary statistics\n",
    "summary_stats = df.describe()\n",
    "print(summary_stats)"
   ]
  },
  {
   "cell_type": "code",
   "execution_count": 4,
   "id": "1b9ba9e7",
   "metadata": {},
   "outputs": [
    {
     "name": "stdout",
     "output_type": "stream",
     "text": [
      "age               0\n",
      "workclass         0\n",
      "fnlwgt            0\n",
      "education         0\n",
      "education_num     0\n",
      "marital_status    0\n",
      "occupation        0\n",
      "relationship      0\n",
      "race              0\n",
      "sex               0\n",
      "capital_gain      0\n",
      "capital_loss      0\n",
      "hours_per_week    0\n",
      "native_country    0\n",
      "income            0\n",
      "dtype: int64\n"
     ]
    }
   ],
   "source": [
    "# Check for missing values\n",
    "missing_values = df.isnull().sum()\n",
    "print(missing_values)"
   ]
  },
  {
   "cell_type": "code",
   "execution_count": 5,
   "id": "9d4246e0",
   "metadata": {},
   "outputs": [
    {
     "name": "stdout",
     "output_type": "stream",
     "text": [
      "age                int64\n",
      "workclass         object\n",
      "fnlwgt             int64\n",
      "education         object\n",
      "education_num      int64\n",
      "marital_status    object\n",
      "occupation        object\n",
      "relationship      object\n",
      "race              object\n",
      "sex               object\n",
      "capital_gain       int64\n",
      "capital_loss       int64\n",
      "hours_per_week     int64\n",
      "native_country    object\n",
      "income            object\n",
      "dtype: object\n"
     ]
    }
   ],
   "source": [
    "# Check data types\n",
    "data_types = df.dtypes\n",
    "print(data_types)"
   ]
  },
  {
   "cell_type": "code",
   "execution_count": 6,
   "id": "46fa4fef",
   "metadata": {},
   "outputs": [
    {
     "name": "stdout",
     "output_type": "stream",
     "text": [
      "(32561, 15)\n"
     ]
    }
   ],
   "source": [
    "#shape of dataset\n",
    "print(df.shape)"
   ]
  },
  {
   "cell_type": "code",
   "execution_count": 7,
   "id": "7d3e935d",
   "metadata": {},
   "outputs": [
    {
     "name": "stdout",
     "output_type": "stream",
     "text": [
      "Index(['age', 'workclass', 'fnlwgt', 'education', 'education_num',\n",
      "       'marital_status', 'occupation', 'relationship', 'race', 'sex',\n",
      "       'capital_gain', 'capital_loss', 'hours_per_week', 'native_country',\n",
      "       'income'],\n",
      "      dtype='object')\n"
     ]
    }
   ],
   "source": [
    "print(df.columns)"
   ]
  },
  {
   "cell_type": "code",
   "execution_count": 8,
   "id": "0272108b",
   "metadata": {},
   "outputs": [],
   "source": [
    "# Separate numerical features\n",
    "numerical_features = ['age', 'fnlwgt', 'education_num', 'capital_gain', 'capital_loss', 'hours_per_week']"
   ]
  },
  {
   "cell_type": "code",
   "execution_count": 9,
   "id": "c5c3fcbb",
   "metadata": {},
   "outputs": [],
   "source": [
    "# Standard Scaling\n",
    "scaler_standard = StandardScaler()\n",
    "df[numerical_features] = scaler_standard.fit_transform(df[numerical_features])"
   ]
  },
  {
   "cell_type": "code",
   "execution_count": 10,
   "id": "1851a412",
   "metadata": {},
   "outputs": [],
   "source": [
    "# Min-Max Scaling\n",
    "scaler_minmax = MinMaxScaler()\n",
    "df[numerical_features] = scaler_minmax.fit_transform(df[numerical_features])"
   ]
  },
  {
   "cell_type": "code",
   "execution_count": 11,
   "id": "2ea98866",
   "metadata": {},
   "outputs": [],
   "source": [
    "# One-Hot Encoding for categorical variables with less than 5 categories\n",
    "categorical_features_onehot = ['workclass', 'education', 'marital_status', 'relationship', 'race', 'sex']\n",
    "encoder_onehot = OneHotEncoder()\n",
    "encoded_onehot = encoder_onehot.fit_transform(df[categorical_features_onehot])"
   ]
  },
  {
   "cell_type": "code",
   "execution_count": 12,
   "id": "69f4c535",
   "metadata": {},
   "outputs": [],
   "source": [
    "# Label Encoding for categorical variables with more than 5 categories\n",
    "categorical_features_label = ['occupation', 'native_country']\n",
    "encoder_label = LabelEncoder()\n",
    "for feature in categorical_features_label:\n",
    "    df[feature] = encoder_label.fit_transform(df[feature])"
   ]
  },
  {
   "cell_type": "code",
   "execution_count": 13,
   "id": "beb04d5d",
   "metadata": {},
   "outputs": [],
   "source": [
    "# Create new features\n",
    "df['capital_diff'] = df['capital_gain'] - df['capital_loss']\n",
    "df['age_hours_ratio'] = df['age'] / df['hours_per_week']\n",
    "\n",
    "# Apply log transformation to 'capital_gain'\n",
    "import numpy as np\n",
    "df['capital_gain_log'] = np.log(df['capital_gain'] + 1)  # Adding 1 to avoid log(0)"
   ]
  },
  {
   "cell_type": "code",
   "execution_count": 14,
   "id": "e8fe8764",
   "metadata": {},
   "outputs": [
    {
     "name": "stdout",
     "output_type": "stream",
     "text": [
      "Original dataset shape: (32561, 18)\n",
      "Cleaned dataset shape: (32235, 18)\n"
     ]
    }
   ],
   "source": [
    "# Define the Isolation Forest model\n",
    "clf = IsolationForest(random_state=42, contamination=0.01)  # Contamination is the proportion of outliers\n",
    "\n",
    "# Fit the Isolation Forest model to numerical features\n",
    "clf.fit(df[numerical_features])\n",
    "\n",
    "# Predict outliers\n",
    "outliers = clf.predict(df[numerical_features])\n",
    "\n",
    "# Remove outliers\n",
    "df_cleaned = df[outliers != -1]\n",
    "\n",
    "# Print the shape of the cleaned dataset\n",
    "print(\"Original dataset shape:\", df.shape)\n",
    "print(\"Cleaned dataset shape:\", df_cleaned.shape)"
   ]
  },
  {
   "cell_type": "code",
   "execution_count": 15,
   "id": "be09026e",
   "metadata": {},
   "outputs": [
    {
     "name": "stdout",
     "output_type": "stream",
     "text": [
      "                     age    fnlwgt  education_num  capital_gain  capital_loss  \\\n",
      "age             1.000000  0.005976       0.000988      0.011704      0.001659   \n",
      "fnlwgt          0.005976  1.000000       0.001922      0.000067      0.000176   \n",
      "education_num   0.000988  0.001922       1.000000      0.020163      0.006228   \n",
      "capital_gain    0.011704  0.000067       0.020163      1.000000      0.002273   \n",
      "capital_loss    0.001659  0.000176       0.006228      0.002273      1.000000   \n",
      "hours_per_week  0.005061  0.000467       0.020770      0.006858      0.002087   \n",
      "\n",
      "                hours_per_week  \n",
      "age                   0.005061  \n",
      "fnlwgt                0.000467  \n",
      "education_num         0.020770  \n",
      "capital_gain          0.006858  \n",
      "capital_loss          0.002087  \n",
      "hours_per_week        1.000000  \n"
     ]
    }
   ],
   "source": [
    "# Compute Pearson correlation coefficient manually\n",
    "correlation_matrix = df_cleaned[numerical_features].corr()\n",
    "\n",
    "# Square the absolute values of the correlation coefficients to get the PPS\n",
    "pps_matrix = correlation_matrix.applymap(lambda x: np.square(abs(x)))\n",
    "\n",
    "print(pps_matrix)"
   ]
  },
  {
   "cell_type": "code",
   "execution_count": null,
   "id": "69b7aedb",
   "metadata": {},
   "outputs": [],
   "source": []
  }
 ],
 "metadata": {
  "kernelspec": {
   "display_name": "Python 3 (ipykernel)",
   "language": "python",
   "name": "python3"
  },
  "language_info": {
   "codemirror_mode": {
    "name": "ipython",
    "version": 3
   },
   "file_extension": ".py",
   "mimetype": "text/x-python",
   "name": "python",
   "nbconvert_exporter": "python",
   "pygments_lexer": "ipython3",
   "version": "3.9.13"
  }
 },
 "nbformat": 4,
 "nbformat_minor": 5
}
